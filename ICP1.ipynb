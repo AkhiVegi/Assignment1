{
 "cells": [
  {
   "cell_type": "code",
   "execution_count": 17,
   "id": "4c99906b-37c3-4dca-b805-f83a2c19b7a6",
   "metadata": {},
   "outputs": [
    {
     "name": "stdin",
     "output_type": "stream",
     "text": [
      "Input String -  python\n"
     ]
    },
    {
     "name": "stdout",
     "output_type": "stream",
     "text": [
      "Output String -  noht\n"
     ]
    },
    {
     "name": "stdin",
     "output_type": "stream",
     "text": [
      "Enter the first number:  2.0\n",
      "Enter the second number  3.0\n"
     ]
    },
    {
     "name": "stdout",
     "output_type": "stream",
     "text": [
      "The result of addition is  5.0\n",
      "The result of subtraction is  -1.0\n",
      "The result of multiplication is  6.0\n",
      "The result of division is  0.6666666666666666\n"
     ]
    }
   ],
   "source": [
    "# Program to print the reversal for a sliced string\n",
    "original_string = input(\"Input String - \")\n",
    "resultant_string = original_string[2:]\n",
    "reversed_string = resultant_string[::-1] # reverse the sliced string\n",
    "print(\"Output String - \", reversed_string)\n",
    "\n",
    "#Program to print the arithmetic operations for given two numbers\n",
    "number1 = float(input('Enter the first number: '))\n",
    "number2 = float(input('Enter the second number '))\n",
    "addition = number1 + number2\n",
    "subtraction = number1 - number2\n",
    "multiplication = number1 * number2\n",
    "division = number1 / number2\n",
    "print(\"The result of addition is \", addition)\n",
    "print(\"The result of subtraction is \", subtraction)\n",
    "print(\"The result of multiplication is \", multiplication)\n",
    "print(\"The result of division is \", division)"
   ]
  },
  {
   "cell_type": "code",
   "execution_count": 18,
   "id": "a5fce226-8eab-49ea-b13a-8357b09b5283",
   "metadata": {},
   "outputs": [
    {
     "name": "stdin",
     "output_type": "stream",
     "text": [
      "input sentence-  i love playing with python\n"
     ]
    },
    {
     "name": "stdout",
     "output_type": "stream",
     "text": [
      "output sentence-  i love playing with pythons\n"
     ]
    }
   ],
   "source": [
    "# Program to replace all occurences of substring\n",
    "input_sentence = input(\"input sentence- \")\n",
    "output_sentence = input_sentence.replace('python', 'pythons') # replace each occurence of python with pythons\n",
    "print(\"output sentence- \", output_sentence)"
   ]
  },
  {
   "cell_type": "code",
   "execution_count": 19,
   "id": "76bad0e6-e358-4580-853b-6fec3bea360b",
   "metadata": {},
   "outputs": [
    {
     "name": "stdin",
     "output_type": "stream",
     "text": [
      "Enter the input class score-  88\n"
     ]
    },
    {
     "name": "stdout",
     "output_type": "stream",
     "text": [
      "B\n"
     ]
    }
   ],
   "source": [
    "# Program to print the letter grade based on input score\n",
    "input_score = int(input(\"Enter the input class score- \"))\n",
    "if(input_score>=90):\n",
    "  print(\"A\")\n",
    "elif(input_score>=80 and input_score<90):\n",
    "  print(\"B\")\n",
    "elif(input_score>=70 and input_score<80):\n",
    "  print(\"C\")\n",
    "elif(input_score>=60 and input_score<70):\n",
    "  print(\"D\")\n",
    "else:\n",
    "  print(\"F\")\n",
    "     "
   ]
  },
  {
   "cell_type": "code",
   "execution_count": null,
   "id": "42d5b246-7364-4e3b-b2ff-8b33b6f9a4e2",
   "metadata": {},
   "outputs": [],
   "source": []
  }
 ],
 "metadata": {
  "kernelspec": {
   "display_name": "Python 3 (ipykernel)",
   "language": "python",
   "name": "python3"
  },
  "language_info": {
   "codemirror_mode": {
    "name": "ipython",
    "version": 3
   },
   "file_extension": ".py",
   "mimetype": "text/x-python",
   "name": "python",
   "nbconvert_exporter": "python",
   "pygments_lexer": "ipython3",
   "version": "3.12.1"
  }
 },
 "nbformat": 4,
 "nbformat_minor": 5
}
