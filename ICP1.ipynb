{
 "cells": [
  {
   "cell_type": "code",
   "execution_count": 2,
   "id": "4c99906b-37c3-4dca-b805-f83a2c19b7a6",
   "metadata": {},
   "outputs": [
    {
     "name": "stdin",
     "output_type": "stream",
     "text": [
      "Enter a string:  akhila\n"
     ]
    },
    {
     "name": "stdout",
     "output_type": "stream",
     "text": [
      "Reversed string: alih\n"
     ]
    }
   ],
   "source": [
    "input_string = input(\"Enter a string: \")\n",
    "if len(input_string) < 2:\n",
    "    print(\"Input string must have at least 2 characters.\")\n",
    "else:\n",
    "    modified_string = input_string[2:]\n",
    "\n",
    "    reversed_string = modified_string[::-1]\n",
    "\n",
    "    print(\"Reversed string:\", reversed_string)"
   ]
  },
  {
   "cell_type": "code",
   "execution_count": 3,
   "id": "a5fce226-8eab-49ea-b13a-8357b09b5283",
   "metadata": {},
   "outputs": [
    {
     "name": "stdin",
     "output_type": "stream",
     "text": [
      "Enter a sentence:  I love python\n"
     ]
    },
    {
     "name": "stdout",
     "output_type": "stream",
     "text": [
      "Modified sentence: I love pythons\n"
     ]
    }
   ],
   "source": [
    "input_sentence = input(\"Enter a sentence: \")\n",
    "\n",
    "modified_sentence = input_sentence.replace('python', 'pythons')\n",
    "\n",
    "print(\"Modified sentence:\", modified_sentence)"
   ]
  },
  {
   "cell_type": "code",
   "execution_count": 4,
   "id": "76bad0e6-e358-4580-853b-6fec3bea360b",
   "metadata": {},
   "outputs": [
    {
     "name": "stdin",
     "output_type": "stream",
     "text": [
      "Enter class score  92\n"
     ]
    },
    {
     "name": "stdout",
     "output_type": "stream",
     "text": [
      "A\n"
     ]
    }
   ],
   "source": [
    "\n",
    "score = int(input(\"Enter class score \"))\n",
    "if(score>=90):\n",
    "  print(\"A\")\n",
    "elif(score>=80 and score<90):\n",
    "  print(\"B\")\n",
    "elif(score>=70 and score<80):\n",
    "  print(\"C\")\n",
    "elif(score>=60 and score<70):\n",
    "  print(\"D\")\n",
    "else:\n",
    "  print(\"F\")\n",
    "     "
   ]
  },
  {
   "cell_type": "code",
   "execution_count": null,
   "id": "42d5b246-7364-4e3b-b2ff-8b33b6f9a4e2",
   "metadata": {},
   "outputs": [],
   "source": []
  }
 ],
 "metadata": {
  "kernelspec": {
   "display_name": "Python 3 (ipykernel)",
   "language": "python",
   "name": "python3"
  },
  "language_info": {
   "codemirror_mode": {
    "name": "ipython",
    "version": 3
   },
   "file_extension": ".py",
   "mimetype": "text/x-python",
   "name": "python",
   "nbconvert_exporter": "python",
   "pygments_lexer": "ipython3",
   "version": "3.12.1"
  }
 },
 "nbformat": 4,
 "nbformat_minor": 5
}
